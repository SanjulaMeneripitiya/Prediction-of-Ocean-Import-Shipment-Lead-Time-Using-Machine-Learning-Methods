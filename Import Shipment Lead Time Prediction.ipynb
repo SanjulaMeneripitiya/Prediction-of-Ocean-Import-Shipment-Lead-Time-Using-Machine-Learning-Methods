{
 "cells": [
  {
   "cell_type": "markdown",
   "id": "28c1e4a0",
   "metadata": {},
   "source": [
    "# Import Shipment Lead Time Prediction"
   ]
  },
  {
   "cell_type": "markdown",
   "id": "fa30a63c",
   "metadata": {},
   "source": [
    "This paper focuses on developing a predictive model for estimating the shipment lead time using machine learning methods for Ocean import freight considering interests of different stakeholders such as Supplier, Freight Forwarder, Port of Loading, LCL/FCL and Clearing Agent."
   ]
  },
  {
   "cell_type": "markdown",
   "id": "c84341fe",
   "metadata": {},
   "source": [
    "### Import libraries"
   ]
  },
  {
   "cell_type": "code",
   "execution_count": 46,
   "id": "4d8ca276",
   "metadata": {},
   "outputs": [],
   "source": [
    "import numpy as np\n",
    "import pandas as pd\n",
    "import seaborn as sns\n",
    "import matplotlib.pyplot as plt\n",
    "%matplotlib inline\n",
    "from datetime import datetime\n",
    "from scipy.stats import probplot\n",
    "from sklearn.preprocessing import LabelEncoder\n",
    "from sklearn.preprocessing import MinMaxScaler\n",
    "from scipy.stats import chi2_contingency\n",
    "from ydata_profiling import ProfileReport\n",
    "from sklearn.model_selection import train_test_split\n",
    "from sklearn.linear_model import LogisticRegression\n",
    "from sklearn.tree import DecisionTreeClassifier\n",
    "from sklearn.ensemble import RandomForestClassifier\n",
    "from sklearn.ensemble import GradientBoostingClassifier\n",
    "from sklearn.metrics import classification_report, confusion_matrix\n",
    "from sklearn.model_selection import GridSearchCV\n",
    "from sklearn.metrics import accuracy_score, precision_score, recall_score, f1_score,mean_absolute_error, mean_squared_error\n",
    "from sklearn.model_selection import cross_val_score\n",
    "import warnings\n",
    "warnings.filterwarnings('ignore')\n",
    "warnings.simplefilter('ignore')"
   ]
  },
  {
   "cell_type": "markdown",
   "id": "c083b8cb",
   "metadata": {},
   "source": [
    "### Import Sea Shipment Details"
   ]
  },
  {
   "cell_type": "code",
   "execution_count": 2,
   "id": "c91fc0b0",
   "metadata": {},
   "outputs": [],
   "source": [
    "sea_data = pd.read_excel(\"QB Shipment_Bookings - Sea.xlsx\")"
   ]
  },
  {
   "cell_type": "code",
   "execution_count": 3,
   "id": "b7ad12b4",
   "metadata": {},
   "outputs": [
    {
     "data": {
      "text/html": [
       "<div>\n",
       "<style scoped>\n",
       "    .dataframe tbody tr th:only-of-type {\n",
       "        vertical-align: middle;\n",
       "    }\n",
       "\n",
       "    .dataframe tbody tr th {\n",
       "        vertical-align: top;\n",
       "    }\n",
       "\n",
       "    .dataframe thead th {\n",
       "        text-align: right;\n",
       "    }\n",
       "</style>\n",
       "<table border=\"1\" class=\"dataframe\">\n",
       "  <thead>\n",
       "    <tr style=\"text-align: right;\">\n",
       "      <th></th>\n",
       "      <th>FORWARDER</th>\n",
       "      <th>ACCOUNT HOLDER</th>\n",
       "      <th>SHIPMENT UNIQUE NO</th>\n",
       "      <th>SUPPLIER NAME</th>\n",
       "      <th>SBU</th>\n",
       "      <th>P.O.#</th>\n",
       "      <th>MERCHANT NAME</th>\n",
       "      <th>BOOKING CONFIRMED DATE TO LFF</th>\n",
       "      <th>INCOTERM</th>\n",
       "      <th>PORT OF LOADING</th>\n",
       "      <th>WEIGHT IN KGS</th>\n",
       "      <th>ACTUAL NO OF PACKAGES</th>\n",
       "      <th>ACTUAL CBM</th>\n",
       "      <th>LCL/FCL</th>\n",
       "      <th>VESSEL/VOYAGE</th>\n",
       "      <th>ETD</th>\n",
       "      <th>ETA</th>\n",
       "      <th>Revised ETA Destination</th>\n",
       "      <th>ATD</th>\n",
       "      <th>ATA</th>\n",
       "      <th>BL NO.</th>\n",
       "      <th>CONTAINER NUMBER</th>\n",
       "      <th>DOCUMENT STATUS</th>\n",
       "      <th>DELIVERY LOCATION</th>\n",
       "      <th>PAYMENT TERM</th>\n",
       "      <th>DOCS TO CLEARING AGENT</th>\n",
       "      <th>APPROX CLEARANCE DATE</th>\n",
       "      <th>CFSCutoff Date and Time (GOODS)</th>\n",
       "      <th>CYCutoff Date and Time</th>\n",
       "      <th>SHIPMENT CLEARED DATE</th>\n",
       "      <th>CLEARING AGENT</th>\n",
       "    </tr>\n",
       "  </thead>\n",
       "  <tbody>\n",
       "    <tr>\n",
       "      <th>0</th>\n",
       "      <td>Expolanka Freight (Pvt) Ltd</td>\n",
       "      <td>Madhawa Ranganath</td>\n",
       "      <td>00018321-2023</td>\n",
       "      <td>TEEJAY INDIA PRIVATE LIMITED</td>\n",
       "      <td>BLI</td>\n",
       "      <td>9726186</td>\n",
       "      <td>Irumi</td>\n",
       "      <td>2023-04-03 14:43:00</td>\n",
       "      <td>EXW</td>\n",
       "      <td>VISAKHAPATNAM</td>\n",
       "      <td>NaN</td>\n",
       "      <td>NaN</td>\n",
       "      <td>NaN</td>\n",
       "      <td>FCL</td>\n",
       "      <td>SM NEYYAR V.0046</td>\n",
       "      <td>2023-04-06</td>\n",
       "      <td>2023-04-11</td>\n",
       "      <td>NaT</td>\n",
       "      <td>NaT</td>\n",
       "      <td>NaT</td>\n",
       "      <td>NaN</td>\n",
       "      <td>NaN</td>\n",
       "      <td>NaN</td>\n",
       "      <td>WATHUPITIWELA</td>\n",
       "      <td>NaN</td>\n",
       "      <td>NaT</td>\n",
       "      <td>2023-04-14</td>\n",
       "      <td>2023-04-03 00:00:00</td>\n",
       "      <td>2023-04-05</td>\n",
       "      <td>NaT</td>\n",
       "      <td>Brandix</td>\n",
       "    </tr>\n",
       "    <tr>\n",
       "      <th>1</th>\n",
       "      <td>Vinflair</td>\n",
       "      <td>Induka Hettiarachchi</td>\n",
       "      <td>00017305-2023</td>\n",
       "      <td>CHUPA SHANGHAI CO.,LTD</td>\n",
       "      <td>BAI</td>\n",
       "      <td>B23243116</td>\n",
       "      <td>CHANDRA</td>\n",
       "      <td>2023-02-20 10:34:00</td>\n",
       "      <td>FOB</td>\n",
       "      <td>SHENZEN</td>\n",
       "      <td>101.64</td>\n",
       "      <td>8</td>\n",
       "      <td>0.547</td>\n",
       "      <td>LCL</td>\n",
       "      <td>INTERASIA ENHANCE W021</td>\n",
       "      <td>2023-02-28</td>\n",
       "      <td>2023-03-12</td>\n",
       "      <td>2023-03-13</td>\n",
       "      <td>2023-03-02</td>\n",
       "      <td>NaT</td>\n",
       "      <td>SZSE23020199</td>\n",
       "      <td>CSLU1148377\\n</td>\n",
       "      <td>NaN</td>\n",
       "      <td>BAI2</td>\n",
       "      <td>NaN</td>\n",
       "      <td>NaT</td>\n",
       "      <td>2023-03-17</td>\n",
       "      <td>2023-02-21 00:00:00</td>\n",
       "      <td>2023-02-25</td>\n",
       "      <td>NaT</td>\n",
       "      <td>KSR</td>\n",
       "    </tr>\n",
       "  </tbody>\n",
       "</table>\n",
       "</div>"
      ],
      "text/plain": [
       "                     FORWARDER        ACCOUNT HOLDER SHIPMENT UNIQUE NO  \\\n",
       "0  Expolanka Freight (Pvt) Ltd     Madhawa Ranganath      00018321-2023   \n",
       "1                     Vinflair  Induka Hettiarachchi      00017305-2023   \n",
       "\n",
       "                  SUPPLIER NAME  SBU      P.O.# MERCHANT NAME  \\\n",
       "0  TEEJAY INDIA PRIVATE LIMITED  BLI    9726186         Irumi   \n",
       "1        CHUPA SHANGHAI CO.,LTD  BAI  B23243116       CHANDRA   \n",
       "\n",
       "  BOOKING CONFIRMED DATE TO LFF INCOTERM PORT OF LOADING WEIGHT IN KGS  \\\n",
       "0           2023-04-03 14:43:00      EXW   VISAKHAPATNAM           NaN   \n",
       "1           2023-02-20 10:34:00      FOB         SHENZEN        101.64   \n",
       "\n",
       "  ACTUAL NO OF PACKAGES ACTUAL CBM LCL/FCL           VESSEL/VOYAGE        ETD  \\\n",
       "0                   NaN        NaN     FCL        SM NEYYAR V.0046 2023-04-06   \n",
       "1                     8      0.547     LCL  INTERASIA ENHANCE W021 2023-02-28   \n",
       "\n",
       "         ETA Revised ETA Destination        ATD ATA        BL NO.  \\\n",
       "0 2023-04-11                     NaT        NaT NaT           NaN   \n",
       "1 2023-03-12              2023-03-13 2023-03-02 NaT  SZSE23020199   \n",
       "\n",
       "  CONTAINER NUMBER DOCUMENT STATUS DELIVERY LOCATION PAYMENT TERM  \\\n",
       "0              NaN             NaN     WATHUPITIWELA          NaN   \n",
       "1    CSLU1148377\\n             NaN              BAI2          NaN   \n",
       "\n",
       "  DOCS TO CLEARING AGENT APPROX CLEARANCE DATE  \\\n",
       "0                    NaT            2023-04-14   \n",
       "1                    NaT            2023-03-17   \n",
       "\n",
       "  CFSCutoff Date and Time (GOODS) CYCutoff Date and Time  \\\n",
       "0             2023-04-03 00:00:00             2023-04-05   \n",
       "1             2023-02-21 00:00:00             2023-02-25   \n",
       "\n",
       "  SHIPMENT CLEARED DATE CLEARING AGENT  \n",
       "0                   NaT        Brandix  \n",
       "1                   NaT            KSR  "
      ]
     },
     "execution_count": 3,
     "metadata": {},
     "output_type": "execute_result"
    }
   ],
   "source": [
    "pd.set_option('display.max_columns', None)\n",
    "sea_data.head(2)"
   ]
  },
  {
   "cell_type": "code",
   "execution_count": 4,
   "id": "89c30e7a",
   "metadata": {},
   "outputs": [],
   "source": [
    "sea_data[\"Mode\"] = \"Sea\""
   ]
  },
  {
   "cell_type": "code",
   "execution_count": 5,
   "id": "89aac619",
   "metadata": {
    "scrolled": true
   },
   "outputs": [
    {
     "name": "stdout",
     "output_type": "stream",
     "text": [
      "<class 'pandas.core.frame.DataFrame'>\n",
      "RangeIndex: 5157 entries, 0 to 5156\n",
      "Data columns (total 32 columns):\n",
      " #   Column                           Non-Null Count  Dtype         \n",
      "---  ------                           --------------  -----         \n",
      " 0   FORWARDER                        5157 non-null   object        \n",
      " 1   ACCOUNT HOLDER                   5157 non-null   object        \n",
      " 2   SHIPMENT UNIQUE NO               5157 non-null   object        \n",
      " 3   SUPPLIER NAME                    5157 non-null   object        \n",
      " 4   SBU                              5157 non-null   object        \n",
      " 5   P.O.#                            5157 non-null   object        \n",
      " 6   MERCHANT NAME                    5155 non-null   object        \n",
      " 7   BOOKING CONFIRMED DATE TO LFF    5157 non-null   datetime64[ns]\n",
      " 8   INCOTERM                         5157 non-null   object        \n",
      " 9   PORT OF LOADING                  5157 non-null   object        \n",
      " 10  WEIGHT IN KGS                    3085 non-null   object        \n",
      " 11  ACTUAL NO OF PACKAGES            3850 non-null   object        \n",
      " 12  ACTUAL CBM                       3850 non-null   object        \n",
      " 13  LCL/FCL                          5156 non-null   object        \n",
      " 14  VESSEL/VOYAGE                    5157 non-null   object        \n",
      " 15  ETD                              5157 non-null   datetime64[ns]\n",
      " 16  ETA                              5157 non-null   datetime64[ns]\n",
      " 17  Revised ETA Destination          3769 non-null   datetime64[ns]\n",
      " 18  ATD                              3769 non-null   datetime64[ns]\n",
      " 19  ATA                              1177 non-null   datetime64[ns]\n",
      " 20  BL NO.                           3713 non-null   object        \n",
      " 21  CONTAINER NUMBER                 1659 non-null   object        \n",
      " 22  DOCUMENT STATUS                  1520 non-null   object        \n",
      " 23  DELIVERY LOCATION                5155 non-null   object        \n",
      " 24  PAYMENT TERM                     1520 non-null   object        \n",
      " 25  DOCS TO CLEARING AGENT           1520 non-null   datetime64[ns]\n",
      " 26  APPROX CLEARANCE DATE            5154 non-null   datetime64[ns]\n",
      " 27  CFSCutoff Date and Time (GOODS)  5157 non-null   object        \n",
      " 28  CYCutoff Date and Time           5157 non-null   datetime64[ns]\n",
      " 29  SHIPMENT CLEARED DATE            343 non-null    datetime64[ns]\n",
      " 30  CLEARING AGENT                   5155 non-null   object        \n",
      " 31  Mode                             5157 non-null   object        \n",
      "dtypes: datetime64[ns](10), object(22)\n",
      "memory usage: 1.3+ MB\n"
     ]
    }
   ],
   "source": [
    "sea_data.info()"
   ]
  },
  {
   "cell_type": "code",
   "execution_count": 6,
   "id": "6d8c5cd8",
   "metadata": {},
   "outputs": [],
   "source": [
    "sea_data['Ageing'] = (sea_data['Revised ETA Destination']- sea_data['CYCutoff Date and Time']).dt.days"
   ]
  },
  {
   "cell_type": "markdown",
   "id": "b8797128",
   "metadata": {},
   "source": [
    "### Exploratory Data Analysis"
   ]
  },
  {
   "cell_type": "code",
   "execution_count": 7,
   "id": "da3751a1",
   "metadata": {
    "scrolled": true
   },
   "outputs": [
    {
     "data": {
      "application/vnd.jupyter.widget-view+json": {
       "model_id": "ef7404ae544c4091bdda44ebff778b5e",
       "version_major": 2,
       "version_minor": 0
      },
      "text/plain": [
       "Summarize dataset:   0%|          | 0/5 [00:00<?, ?it/s]"
      ]
     },
     "metadata": {},
     "output_type": "display_data"
    },
    {
     "data": {
      "application/vnd.jupyter.widget-view+json": {
       "model_id": "acf268a3b8914d2b8287cae8c66e7030",
       "version_major": 2,
       "version_minor": 0
      },
      "text/plain": [
       "Generate report structure:   0%|          | 0/1 [00:00<?, ?it/s]"
      ]
     },
     "metadata": {},
     "output_type": "display_data"
    },
    {
     "data": {
      "application/vnd.jupyter.widget-view+json": {
       "model_id": "669e2d76c6af48808e6380fd06f97e58",
       "version_major": 2,
       "version_minor": 0
      },
      "text/plain": [
       "Render HTML:   0%|          | 0/1 [00:00<?, ?it/s]"
      ]
     },
     "metadata": {},
     "output_type": "display_data"
    },
    {
     "data": {
      "application/vnd.jupyter.widget-view+json": {
       "model_id": "caedac7b51534003b92dc66131d9c7ab",
       "version_major": 2,
       "version_minor": 0
      },
      "text/plain": [
       "Export report to file:   0%|          | 0/1 [00:00<?, ?it/s]"
      ]
     },
     "metadata": {},
     "output_type": "display_data"
    }
   ],
   "source": [
    "profile = ProfileReport(sea_data,explorative=True)\n",
    "\n",
    "# Display the profile report\n",
    "profile.to_file('Exploratory Analysis.html')"
   ]
  },
  {
   "cell_type": "markdown",
   "id": "6fc720a5",
   "metadata": {},
   "source": [
    "### Select Columns"
   ]
  },
  {
   "cell_type": "code",
   "execution_count": 8,
   "id": "ed2b7037",
   "metadata": {},
   "outputs": [],
   "source": [
    "df_sea = sea_data[['FORWARDER', 'SUPPLIER NAME', 'PORT OF LOADING', 'SBU', 'DOCUMENT STATUS', 'CYCutoff Date and Time', 'Ageing',]]"
   ]
  },
  {
   "cell_type": "code",
   "execution_count": 9,
   "id": "9ec6eb3b",
   "metadata": {},
   "outputs": [
    {
     "data": {
      "text/html": [
       "<div>\n",
       "<style scoped>\n",
       "    .dataframe tbody tr th:only-of-type {\n",
       "        vertical-align: middle;\n",
       "    }\n",
       "\n",
       "    .dataframe tbody tr th {\n",
       "        vertical-align: top;\n",
       "    }\n",
       "\n",
       "    .dataframe thead th {\n",
       "        text-align: right;\n",
       "    }\n",
       "</style>\n",
       "<table border=\"1\" class=\"dataframe\">\n",
       "  <thead>\n",
       "    <tr style=\"text-align: right;\">\n",
       "      <th></th>\n",
       "      <th>FORWARDER</th>\n",
       "      <th>SUPPLIER NAME</th>\n",
       "      <th>PORT OF LOADING</th>\n",
       "      <th>SBU</th>\n",
       "      <th>DOCUMENT STATUS</th>\n",
       "      <th>CYCutoff Date and Time</th>\n",
       "      <th>Ageing</th>\n",
       "    </tr>\n",
       "  </thead>\n",
       "  <tbody>\n",
       "    <tr>\n",
       "      <th>3</th>\n",
       "      <td>Expolanka Freight (Pvt) Ltd</td>\n",
       "      <td>EURO JERSEY S.P.A</td>\n",
       "      <td>GENOVA</td>\n",
       "      <td>BAI</td>\n",
       "      <td>Surrendered</td>\n",
       "      <td>2023-03-04</td>\n",
       "      <td>37.0</td>\n",
       "    </tr>\n",
       "    <tr>\n",
       "      <th>9</th>\n",
       "      <td>20 Cube ( Pvt ) Ltd</td>\n",
       "      <td>BAIKAI INDUSTRY (VIETNAM) CO., LTD.</td>\n",
       "      <td>HO CHI MINH CITY</td>\n",
       "      <td>BLI</td>\n",
       "      <td>Surrendered</td>\n",
       "      <td>2023-03-26</td>\n",
       "      <td>9.0</td>\n",
       "    </tr>\n",
       "  </tbody>\n",
       "</table>\n",
       "</div>"
      ],
      "text/plain": [
       "                     FORWARDER                        SUPPLIER NAME  \\\n",
       "3  Expolanka Freight (Pvt) Ltd                    EURO JERSEY S.P.A   \n",
       "9          20 Cube ( Pvt ) Ltd  BAIKAI INDUSTRY (VIETNAM) CO., LTD.   \n",
       "\n",
       "    PORT OF LOADING  SBU DOCUMENT STATUS CYCutoff Date and Time  Ageing  \n",
       "3            GENOVA  BAI     Surrendered             2023-03-04    37.0  \n",
       "9  HO CHI MINH CITY  BLI     Surrendered             2023-03-26     9.0  "
      ]
     },
     "execution_count": 9,
     "metadata": {},
     "output_type": "execute_result"
    }
   ],
   "source": [
    "df_sea = df_sea.dropna(how='any',axis=0)\n",
    "df_sea.head(2)"
   ]
  },
  {
   "cell_type": "code",
   "execution_count": 10,
   "id": "ccdc3149",
   "metadata": {},
   "outputs": [
    {
     "name": "stdout",
     "output_type": "stream",
     "text": [
      "<class 'pandas.core.frame.DataFrame'>\n",
      "Int64Index: 1520 entries, 3 to 5141\n",
      "Data columns (total 7 columns):\n",
      " #   Column                  Non-Null Count  Dtype         \n",
      "---  ------                  --------------  -----         \n",
      " 0   FORWARDER               1520 non-null   object        \n",
      " 1   SUPPLIER NAME           1520 non-null   object        \n",
      " 2   PORT OF LOADING         1520 non-null   object        \n",
      " 3   SBU                     1520 non-null   object        \n",
      " 4   DOCUMENT STATUS         1520 non-null   object        \n",
      " 5   CYCutoff Date and Time  1520 non-null   datetime64[ns]\n",
      " 6   Ageing                  1520 non-null   float64       \n",
      "dtypes: datetime64[ns](1), float64(1), object(5)\n",
      "memory usage: 95.0+ KB\n"
     ]
    }
   ],
   "source": [
    "df_sea.info()"
   ]
  },
  {
   "cell_type": "markdown",
   "id": "4451609c",
   "metadata": {},
   "source": [
    "## Remove Outliers"
   ]
  },
  {
   "cell_type": "markdown",
   "id": "890ebe15",
   "metadata": {},
   "source": [
    "Removing outliers from a dataset can be done in several ways, but one common approach is to use the Interquartile Range (IQR) method. The IQR is a measure of statistical dispersion and represents the range between the first and third quartiles of a dataset. The IQR is used to identify the boundaries of the \"normal\" range of data, and any data points outside of these boundaries are considered outliers."
   ]
  },
  {
   "cell_type": "code",
   "execution_count": 11,
   "id": "78523db1",
   "metadata": {},
   "outputs": [
    {
     "data": {
      "image/png": "[encoded data removed]",
      "text/plain": [
       "<Figure size 640x480 with 1 Axes>"
      ]
     },
     "metadata": {},
     "output_type": "display_data"
    }
   ],
   "source": [
    "fig, ax = plt.subplots()\n",
    "ax.boxplot(df_sea['Ageing'])\n",
    "\n",
    "# Add a title and y-axis label\n",
    "ax.set_title('Ageing Distribution')\n",
    "ax.set_ylabel('Value')\n",
    "\n",
    "# Show the plot\n",
    "plt.show()"
   ]
  },
  {
   "cell_type": "markdown",
   "id": "ec7d38d3",
   "metadata": {},
   "source": [
    "Since Ageing should be posistive value need to remove negative value form data set"
   ]
  },
  {
   "cell_type": "code",
   "execution_count": 12,
   "id": "2f118b5a",
   "metadata": {},
   "outputs": [],
   "source": [
    "# Filter negative value in ageing\n",
    "df_sea = df_sea[(df_sea['Ageing'] >= 0)]"
   ]
  },
  {
   "cell_type": "code",
   "execution_count": 13,
   "id": "0a9d471c",
   "metadata": {},
   "outputs": [
    {
     "data": {
      "text/html": [
       "<div>\n",
       "<style scoped>\n",
       "    .dataframe tbody tr th:only-of-type {\n",
       "        vertical-align: middle;\n",
       "    }\n",
       "\n",
       "    .dataframe tbody tr th {\n",
       "        vertical-align: top;\n",
       "    }\n",
       "\n",
       "    .dataframe thead th {\n",
       "        text-align: right;\n",
       "    }\n",
       "</style>\n",
       "<table border=\"1\" class=\"dataframe\">\n",
       "  <thead>\n",
       "    <tr style=\"text-align: right;\">\n",
       "      <th></th>\n",
       "      <th>FORWARDER</th>\n",
       "      <th>SUPPLIER NAME</th>\n",
       "      <th>PORT OF LOADING</th>\n",
       "      <th>SBU</th>\n",
       "      <th>DOCUMENT STATUS</th>\n",
       "      <th>CYCutoff Date and Time</th>\n",
       "      <th>Ageing</th>\n",
       "    </tr>\n",
       "  </thead>\n",
       "  <tbody>\n",
       "    <tr>\n",
       "      <th>3</th>\n",
       "      <td>Expolanka Freight (Pvt) Ltd</td>\n",
       "      <td>EURO JERSEY S.P.A</td>\n",
       "      <td>GENOVA</td>\n",
       "      <td>BAI</td>\n",
       "      <td>Surrendered</td>\n",
       "      <td>2023-03-04</td>\n",
       "      <td>37.0</td>\n",
       "    </tr>\n",
       "    <tr>\n",
       "      <th>9</th>\n",
       "      <td>20 Cube ( Pvt ) Ltd</td>\n",
       "      <td>BAIKAI INDUSTRY (VIETNAM) CO., LTD.</td>\n",
       "      <td>HO CHI MINH CITY</td>\n",
       "      <td>BLI</td>\n",
       "      <td>Surrendered</td>\n",
       "      <td>2023-03-26</td>\n",
       "      <td>9.0</td>\n",
       "    </tr>\n",
       "  </tbody>\n",
       "</table>\n",
       "</div>"
      ],
      "text/plain": [
       "                     FORWARDER                        SUPPLIER NAME  \\\n",
       "3  Expolanka Freight (Pvt) Ltd                    EURO JERSEY S.P.A   \n",
       "9          20 Cube ( Pvt ) Ltd  BAIKAI INDUSTRY (VIETNAM) CO., LTD.   \n",
       "\n",
       "    PORT OF LOADING  SBU DOCUMENT STATUS CYCutoff Date and Time  Ageing  \n",
       "3            GENOVA  BAI     Surrendered             2023-03-04    37.0  \n",
       "9  HO CHI MINH CITY  BLI     Surrendered             2023-03-26     9.0  "
      ]
     },
     "execution_count": 13,
     "metadata": {},
     "output_type": "execute_result"
    }
   ],
   "source": [
    "# Calculate the first and third quartiles and the IQR\n",
    "Q1 = df_sea['Ageing'].quantile(0.25)\n",
    "Q3 = df_sea['Ageing'].quantile(0.75)\n",
    "IQR = Q3 - Q1\n",
    "\n",
    "# Define the lower and upper bounds as 1.5 times the IQR below Q1 and above Q3, respectively\n",
    "lower_bound = Q1 - 1.5 * IQR\n",
    "upper_bound = Q3 + 1.5 * IQR\n",
    "\n",
    "# Filter out any values below the lower bound or above the upper bound\n",
    "df_filtered = df_sea[(df_sea['Ageing'] >= lower_bound) & (df_sea['Ageing'] <= upper_bound)]\n",
    "df_filtered.head(2)"
   ]
  },
  {
   "cell_type": "code",
   "execution_count": 14,
   "id": "7ccaf45d",
   "metadata": {
    "scrolled": false
   },
   "outputs": [
    {
     "data": {
      "image/png": "[encoded data removed]",
      "text/plain": [
       "<Figure size 640x480 with 1 Axes>"
      ]
     },
     "metadata": {},
     "output_type": "display_data"
    }
   ],
   "source": [
    "fig, ax = plt.subplots()\n",
    "ax.boxplot(df_filtered['Ageing'])\n",
    "\n",
    "# Add a title and y-axis label\n",
    "ax.set_title('Ageing Distribution')\n",
    "ax.set_ylabel('Value')\n",
    "\n",
    "# Show the plot\n",
    "plt.show()"
   ]
  },
  {
   "cell_type": "code",
   "execution_count": 15,
   "id": "f4f766e2",
   "metadata": {},
   "outputs": [
    {
     "data": {
      "text/html": [
       "<div>\n",
       "<style scoped>\n",
       "    .dataframe tbody tr th:only-of-type {\n",
       "        vertical-align: middle;\n",
       "    }\n",
       "\n",
       "    .dataframe tbody tr th {\n",
       "        vertical-align: top;\n",
       "    }\n",
       "\n",
       "    .dataframe thead th {\n",
       "        text-align: right;\n",
       "    }\n",
       "</style>\n",
       "<table border=\"1\" class=\"dataframe\">\n",
       "  <thead>\n",
       "    <tr style=\"text-align: right;\">\n",
       "      <th></th>\n",
       "      <th>Ageing</th>\n",
       "    </tr>\n",
       "  </thead>\n",
       "  <tbody>\n",
       "    <tr>\n",
       "      <th>count</th>\n",
       "      <td>1322.000000</td>\n",
       "    </tr>\n",
       "    <tr>\n",
       "      <th>mean</th>\n",
       "      <td>15.900908</td>\n",
       "    </tr>\n",
       "    <tr>\n",
       "      <th>std</th>\n",
       "      <td>8.506400</td>\n",
       "    </tr>\n",
       "    <tr>\n",
       "      <th>min</th>\n",
       "      <td>0.000000</td>\n",
       "    </tr>\n",
       "    <tr>\n",
       "      <th>25%</th>\n",
       "      <td>9.250000</td>\n",
       "    </tr>\n",
       "    <tr>\n",
       "      <th>50%</th>\n",
       "      <td>15.000000</td>\n",
       "    </tr>\n",
       "    <tr>\n",
       "      <th>75%</th>\n",
       "      <td>20.000000</td>\n",
       "    </tr>\n",
       "    <tr>\n",
       "      <th>max</th>\n",
       "      <td>43.000000</td>\n",
       "    </tr>\n",
       "  </tbody>\n",
       "</table>\n",
       "</div>"
      ],
      "text/plain": [
       "            Ageing\n",
       "count  1322.000000\n",
       "mean     15.900908\n",
       "std       8.506400\n",
       "min       0.000000\n",
       "25%       9.250000\n",
       "50%      15.000000\n",
       "75%      20.000000\n",
       "max      43.000000"
      ]
     },
     "execution_count": 15,
     "metadata": {},
     "output_type": "execute_result"
    }
   ],
   "source": [
    "df_filtered.describe()"
   ]
  },
  {
   "cell_type": "code",
   "execution_count": 16,
   "id": "7e790a39",
   "metadata": {
    "scrolled": false
   },
   "outputs": [
    {
     "data": {
      "image/png": "[encoded data removed]",
      "text/plain": [
       "<Figure size 640x480 with 1 Axes>"
      ]
     },
     "metadata": {},
     "output_type": "display_data"
    }
   ],
   "source": [
    "# Create a normal probability plot of the sample\n",
    "probplot(df_filtered['Ageing'], plot=plt)\n",
    "\n",
    "# Show the plot\n",
    "plt.show()"
   ]
  },
  {
   "cell_type": "markdown",
   "id": "7434e476",
   "metadata": {},
   "source": [
    "## Feature Engineering\n",
    "\n",
    "### Feature Extraction"
   ]
  },
  {
   "cell_type": "markdown",
   "id": "056302f2",
   "metadata": {},
   "source": [
    "Feature extraction is the process of identifying and selecting the most relevant and informative features (or variables) from raw data. It is an important step in machine learning because it reduces the dimensionality of the data and helps in improving the accuracy and efficiency of the model."
   ]
  },
  {
   "cell_type": "code",
   "execution_count": 17,
   "id": "df33ce71",
   "metadata": {},
   "outputs": [
    {
     "data": {
      "text/html": [
       "<div>\n",
       "<style scoped>\n",
       "    .dataframe tbody tr th:only-of-type {\n",
       "        vertical-align: middle;\n",
       "    }\n",
       "\n",
       "    .dataframe tbody tr th {\n",
       "        vertical-align: top;\n",
       "    }\n",
       "\n",
       "    .dataframe thead th {\n",
       "        text-align: right;\n",
       "    }\n",
       "</style>\n",
       "<table border=\"1\" class=\"dataframe\">\n",
       "  <thead>\n",
       "    <tr style=\"text-align: right;\">\n",
       "      <th></th>\n",
       "      <th>FORWARDER</th>\n",
       "      <th>SUPPLIER NAME</th>\n",
       "      <th>PORT OF LOADING</th>\n",
       "      <th>SBU</th>\n",
       "      <th>DOCUMENT STATUS</th>\n",
       "      <th>CYCutoff Date and Time</th>\n",
       "      <th>Ageing</th>\n",
       "    </tr>\n",
       "  </thead>\n",
       "  <tbody>\n",
       "    <tr>\n",
       "      <th>3</th>\n",
       "      <td>Expolanka Freight (Pvt) Ltd</td>\n",
       "      <td>EURO JERSEY S.P.A</td>\n",
       "      <td>GENOVA</td>\n",
       "      <td>BAI</td>\n",
       "      <td>Surrendered</td>\n",
       "      <td>2023-03-04</td>\n",
       "      <td>37.0</td>\n",
       "    </tr>\n",
       "    <tr>\n",
       "      <th>9</th>\n",
       "      <td>20 Cube ( Pvt ) Ltd</td>\n",
       "      <td>BAIKAI INDUSTRY (VIETNAM) CO., LTD.</td>\n",
       "      <td>HO CHI MINH CITY</td>\n",
       "      <td>BLI</td>\n",
       "      <td>Surrendered</td>\n",
       "      <td>2023-03-26</td>\n",
       "      <td>9.0</td>\n",
       "    </tr>\n",
       "  </tbody>\n",
       "</table>\n",
       "</div>"
      ],
      "text/plain": [
       "                     FORWARDER                        SUPPLIER NAME  \\\n",
       "3  Expolanka Freight (Pvt) Ltd                    EURO JERSEY S.P.A   \n",
       "9          20 Cube ( Pvt ) Ltd  BAIKAI INDUSTRY (VIETNAM) CO., LTD.   \n",
       "\n",
       "    PORT OF LOADING  SBU DOCUMENT STATUS CYCutoff Date and Time  Ageing  \n",
       "3            GENOVA  BAI     Surrendered             2023-03-04    37.0  \n",
       "9  HO CHI MINH CITY  BLI     Surrendered             2023-03-26     9.0  "
      ]
     },
     "execution_count": 17,
     "metadata": {},
     "output_type": "execute_result"
    }
   ],
   "source": [
    "df_filtered.head(2)"
   ]
  },
  {
   "cell_type": "markdown",
   "id": "b57c825c",
   "metadata": {},
   "source": [
    "CY Cutoff Day is the critical date for shipment. All shipment planes made base on CY Cutoff, therfore, here extract Month, Week number and Day features."
   ]
  },
  {
   "cell_type": "code",
   "execution_count": 18,
   "id": "d340efa5",
   "metadata": {},
   "outputs": [],
   "source": [
    "#Create variable with weeknumber for CYCutoff\n",
    "df_filtered['weekNumber'] = df_filtered['CYCutoff Date and Time'].dt.week\n",
    "\n",
    "#Create variable with month for CYCutoff\n",
    "df_filtered['month_of_date'] = df_filtered['CYCutoff Date and Time'].dt.month\n",
    "\n",
    "#Create variable with day for CYCutoff\n",
    "df_filtered['day_of_date'] = df_filtered['CYCutoff Date and Time'].dt.dayofweek"
   ]
  },
  {
   "cell_type": "code",
   "execution_count": 19,
   "id": "92c6ca5f",
   "metadata": {
    "scrolled": true
   },
   "outputs": [
    {
     "data": {
      "text/html": [
       "<div>\n",
       "<style scoped>\n",
       "    .dataframe tbody tr th:only-of-type {\n",
       "        vertical-align: middle;\n",
       "    }\n",
       "\n",
       "    .dataframe tbody tr th {\n",
       "        vertical-align: top;\n",
       "    }\n",
       "\n",
       "    .dataframe thead th {\n",
       "        text-align: right;\n",
       "    }\n",
       "</style>\n",
       "<table border=\"1\" class=\"dataframe\">\n",
       "  <thead>\n",
       "    <tr style=\"text-align: right;\">\n",
       "      <th></th>\n",
       "      <th>FORWARDER</th>\n",
       "      <th>SUPPLIER NAME</th>\n",
       "      <th>PORT OF LOADING</th>\n",
       "      <th>SBU</th>\n",
       "      <th>DOCUMENT STATUS</th>\n",
       "      <th>CYCutoff Date and Time</th>\n",
       "      <th>Ageing</th>\n",
       "      <th>weekNumber</th>\n",
       "      <th>month_of_date</th>\n",
       "      <th>day_of_date</th>\n",
       "    </tr>\n",
       "  </thead>\n",
       "  <tbody>\n",
       "    <tr>\n",
       "      <th>3</th>\n",
       "      <td>Expolanka Freight (Pvt) Ltd</td>\n",
       "      <td>EURO JERSEY S.P.A</td>\n",
       "      <td>GENOVA</td>\n",
       "      <td>BAI</td>\n",
       "      <td>Surrendered</td>\n",
       "      <td>2023-03-04</td>\n",
       "      <td>37.0</td>\n",
       "      <td>9</td>\n",
       "      <td>3</td>\n",
       "      <td>5</td>\n",
       "    </tr>\n",
       "    <tr>\n",
       "      <th>9</th>\n",
       "      <td>20 Cube ( Pvt ) Ltd</td>\n",
       "      <td>BAIKAI INDUSTRY (VIETNAM) CO., LTD.</td>\n",
       "      <td>HO CHI MINH CITY</td>\n",
       "      <td>BLI</td>\n",
       "      <td>Surrendered</td>\n",
       "      <td>2023-03-26</td>\n",
       "      <td>9.0</td>\n",
       "      <td>12</td>\n",
       "      <td>3</td>\n",
       "      <td>6</td>\n",
       "    </tr>\n",
       "  </tbody>\n",
       "</table>\n",
       "</div>"
      ],
      "text/plain": [
       "                     FORWARDER                        SUPPLIER NAME  \\\n",
       "3  Expolanka Freight (Pvt) Ltd                    EURO JERSEY S.P.A   \n",
       "9          20 Cube ( Pvt ) Ltd  BAIKAI INDUSTRY (VIETNAM) CO., LTD.   \n",
       "\n",
       "    PORT OF LOADING  SBU DOCUMENT STATUS CYCutoff Date and Time  Ageing  \\\n",
       "3            GENOVA  BAI     Surrendered             2023-03-04    37.0   \n",
       "9  HO CHI MINH CITY  BLI     Surrendered             2023-03-26     9.0   \n",
       "\n",
       "   weekNumber  month_of_date  day_of_date  \n",
       "3           9              3            5  \n",
       "9          12              3            6  "
      ]
     },
     "execution_count": 19,
     "metadata": {},
     "output_type": "execute_result"
    }
   ],
   "source": [
    "df_filtered.head(2)"
   ]
  },
  {
   "cell_type": "code",
   "execution_count": 20,
   "id": "8a6f9d6b",
   "metadata": {},
   "outputs": [
    {
     "data": {
      "text/html": [
       "<div>\n",
       "<style scoped>\n",
       "    .dataframe tbody tr th:only-of-type {\n",
       "        vertical-align: middle;\n",
       "    }\n",
       "\n",
       "    .dataframe tbody tr th {\n",
       "        vertical-align: top;\n",
       "    }\n",
       "\n",
       "    .dataframe thead th {\n",
       "        text-align: right;\n",
       "    }\n",
       "</style>\n",
       "<table border=\"1\" class=\"dataframe\">\n",
       "  <thead>\n",
       "    <tr style=\"text-align: right;\">\n",
       "      <th></th>\n",
       "      <th>FORWARDER</th>\n",
       "      <th>SUPPLIER NAME</th>\n",
       "      <th>PORT OF LOADING</th>\n",
       "      <th>SBU</th>\n",
       "      <th>DOCUMENT STATUS</th>\n",
       "      <th>weekNumber</th>\n",
       "      <th>month_of_date</th>\n",
       "      <th>day_of_date</th>\n",
       "      <th>Ageing</th>\n",
       "    </tr>\n",
       "  </thead>\n",
       "  <tbody>\n",
       "    <tr>\n",
       "      <th>3</th>\n",
       "      <td>Expolanka Freight (Pvt) Ltd</td>\n",
       "      <td>EURO JERSEY S.P.A</td>\n",
       "      <td>GENOVA</td>\n",
       "      <td>BAI</td>\n",
       "      <td>Surrendered</td>\n",
       "      <td>9</td>\n",
       "      <td>3</td>\n",
       "      <td>5</td>\n",
       "      <td>37.0</td>\n",
       "    </tr>\n",
       "    <tr>\n",
       "      <th>9</th>\n",
       "      <td>20 Cube ( Pvt ) Ltd</td>\n",
       "      <td>BAIKAI INDUSTRY (VIETNAM) CO., LTD.</td>\n",
       "      <td>HO CHI MINH CITY</td>\n",
       "      <td>BLI</td>\n",
       "      <td>Surrendered</td>\n",
       "      <td>12</td>\n",
       "      <td>3</td>\n",
       "      <td>6</td>\n",
       "      <td>9.0</td>\n",
       "    </tr>\n",
       "  </tbody>\n",
       "</table>\n",
       "</div>"
      ],
      "text/plain": [
       "                     FORWARDER                        SUPPLIER NAME  \\\n",
       "3  Expolanka Freight (Pvt) Ltd                    EURO JERSEY S.P.A   \n",
       "9          20 Cube ( Pvt ) Ltd  BAIKAI INDUSTRY (VIETNAM) CO., LTD.   \n",
       "\n",
       "    PORT OF LOADING  SBU DOCUMENT STATUS  weekNumber  month_of_date  \\\n",
       "3            GENOVA  BAI     Surrendered           9              3   \n",
       "9  HO CHI MINH CITY  BLI     Surrendered          12              3   \n",
       "\n",
       "   day_of_date  Ageing  \n",
       "3            5    37.0  \n",
       "9            6     9.0  "
      ]
     },
     "execution_count": 20,
     "metadata": {},
     "output_type": "execute_result"
    }
   ],
   "source": [
    "#drop CYcutoff date variable\n",
    "df_filtered = df_filtered.drop('CYCutoff Date and Time', axis=1)\n",
    "\n",
    "#reoder columns\n",
    "df_filtered = df_filtered[['FORWARDER', 'SUPPLIER NAME', 'PORT OF LOADING', 'SBU', 'DOCUMENT STATUS', 'weekNumber', \n",
    "                           'month_of_date', 'day_of_date', 'Ageing']]\n",
    "df_filtered.head(2)"
   ]
  },
  {
   "cell_type": "markdown",
   "id": "5106b6c4",
   "metadata": {},
   "source": [
    "### Encording Data"
   ]
  },
  {
   "cell_type": "code",
   "execution_count": 21,
   "id": "e05ba73a",
   "metadata": {},
   "outputs": [],
   "source": [
    "df_encode = df_filtered.copy()"
   ]
  },
  {
   "cell_type": "code",
   "execution_count": 22,
   "id": "6744cf04",
   "metadata": {},
   "outputs": [],
   "source": [
    "# Create a LabelEncoder object\n",
    "encoder = LabelEncoder()\n",
    "\n",
    "# Encode a categorical variable\n",
    "df_encode['FORWARDER'] = encoder.fit_transform(df_encode['FORWARDER'])\n",
    "df_encode['SUPPLIER NAME'] = encoder.fit_transform(df_encode['SUPPLIER NAME'])\n",
    "df_encode['PORT OF LOADING'] = encoder.fit_transform(df_encode['PORT OF LOADING'])\n",
    "df_encode['SBU'] = encoder.fit_transform(df_encode['SBU'])\n",
    "df_encode['DOCUMENT STATUS'] = encoder.fit_transform(df_encode['DOCUMENT STATUS'])"
   ]
  },
  {
   "cell_type": "code",
   "execution_count": 23,
   "id": "5f4537fc",
   "metadata": {
    "scrolled": false
   },
   "outputs": [
    {
     "data": {
      "text/html": [
       "<div>\n",
       "<style scoped>\n",
       "    .dataframe tbody tr th:only-of-type {\n",
       "        vertical-align: middle;\n",
       "    }\n",
       "\n",
       "    .dataframe tbody tr th {\n",
       "        vertical-align: top;\n",
       "    }\n",
       "\n",
       "    .dataframe thead th {\n",
       "        text-align: right;\n",
       "    }\n",
       "</style>\n",
       "<table border=\"1\" class=\"dataframe\">\n",
       "  <thead>\n",
       "    <tr style=\"text-align: right;\">\n",
       "      <th></th>\n",
       "      <th>FORWARDER</th>\n",
       "      <th>SUPPLIER NAME</th>\n",
       "      <th>PORT OF LOADING</th>\n",
       "      <th>SBU</th>\n",
       "      <th>DOCUMENT STATUS</th>\n",
       "      <th>weekNumber</th>\n",
       "      <th>month_of_date</th>\n",
       "      <th>day_of_date</th>\n",
       "      <th>Ageing</th>\n",
       "    </tr>\n",
       "  </thead>\n",
       "  <tbody>\n",
       "    <tr>\n",
       "      <th>3</th>\n",
       "      <td>3</td>\n",
       "      <td>50</td>\n",
       "      <td>5</td>\n",
       "      <td>2</td>\n",
       "      <td>2</td>\n",
       "      <td>9</td>\n",
       "      <td>3</td>\n",
       "      <td>5</td>\n",
       "      <td>37.0</td>\n",
       "    </tr>\n",
       "    <tr>\n",
       "      <th>9</th>\n",
       "      <td>0</td>\n",
       "      <td>14</td>\n",
       "      <td>8</td>\n",
       "      <td>10</td>\n",
       "      <td>2</td>\n",
       "      <td>12</td>\n",
       "      <td>3</td>\n",
       "      <td>6</td>\n",
       "      <td>9.0</td>\n",
       "    </tr>\n",
       "  </tbody>\n",
       "</table>\n",
       "</div>"
      ],
      "text/plain": [
       "   FORWARDER  SUPPLIER NAME  PORT OF LOADING  SBU  DOCUMENT STATUS  \\\n",
       "3          3             50                5    2                2   \n",
       "9          0             14                8   10                2   \n",
       "\n",
       "   weekNumber  month_of_date  day_of_date  Ageing  \n",
       "3           9              3            5    37.0  \n",
       "9          12              3            6     9.0  "
      ]
     },
     "execution_count": 23,
     "metadata": {},
     "output_type": "execute_result"
    }
   ],
   "source": [
    "df_encode.head(2)"
   ]
  },
  {
   "cell_type": "markdown",
   "id": "720bfa37",
   "metadata": {},
   "source": [
    "### Feature Selection"
   ]
  },
  {
   "cell_type": "markdown",
   "id": "1a4b0a70",
   "metadata": {},
   "source": [
    "#### Chi-squared"
   ]
  },
  {
   "cell_type": "markdown",
   "id": "7671ff9c",
   "metadata": {},
   "source": [
    "To test the association between each of the 7 categorical variables and the continuous target variable using the chi-squared test, first need to convert the continuous variable into a categorical variable by binning or discretizing it into appropriate categories. Then perform a separate chi-squared test for each of the 4 categorical variables against the discretized target variable."
   ]
  },
  {
   "cell_type": "code",
   "execution_count": 24,
   "id": "e6b8c2c0",
   "metadata": {
    "scrolled": true
   },
   "outputs": [
    {
     "name": "stdout",
     "output_type": "stream",
     "text": [
      "FORWARDER: chi2=694.81, p-value=0.0000\n",
      "SUPPLIER NAME: chi2=2062.12, p-value=0.0000\n",
      "SUPPLIER NAME: chi2=2062.12, p-value=0.0000\n",
      "DOCUMENT STATUS: chi2=346.64, p-value=0.0000\n",
      "SBU: chi2=480.27, p-value=0.0000\n",
      "weekNumber: chi2=628.91, p-value=0.0000\n",
      "month_of_date: chi2=268.74, p-value=0.0000\n",
      "day_of_date: chi2=305.71, p-value=0.0000\n"
     ]
    }
   ],
   "source": [
    "# Discretize the target variable into 3 categories using the qcut function\n",
    "df_encode['Ageing_category'] = pd.qcut(df_encode['Ageing'], q=5)\n",
    "\n",
    "# Perform chi-squared tests for each categorical variable against the discretized target variable\n",
    "for cat_var in ['FORWARDER', 'SUPPLIER NAME', 'SUPPLIER NAME', 'DOCUMENT STATUS', 'SBU', 'weekNumber', 'month_of_date', 'day_of_date']:\n",
    "    contingency_table = pd.crosstab(df_encode[cat_var], df_encode['Ageing_category'])\n",
    "    chi2, pval, dof, exp_freq = chi2_contingency(contingency_table)\n",
    "    print(f\"{cat_var}: chi2={chi2:.2f}, p-value={pval:.4f}\")"
   ]
  },
  {
   "cell_type": "markdown",
   "id": "0af3503d",
   "metadata": {},
   "source": [
    "All the P-Values are less than 0.05, therfore, reject the null hypothesis of independence and we can conclude that there is a statistically significant association between the variables with Ageing.\n",
    "\n",
    "But to improve the accuracy of the model will remove lowest chi value feature from data set."
   ]
  },
  {
   "cell_type": "code",
   "execution_count": 25,
   "id": "c4e8775d",
   "metadata": {},
   "outputs": [],
   "source": [
    "#drop month_of_date variable\n",
    "df_filtered = df_filtered.drop('month_of_date', axis=1)"
   ]
  },
  {
   "cell_type": "markdown",
   "id": "62a9d80e",
   "metadata": {},
   "source": [
    "## Spliting Data"
   ]
  },
  {
   "cell_type": "markdown",
   "id": "dad5be54",
   "metadata": {},
   "source": [
    "Splitting the dataset is a common technique used in machine learning to evaluate the performance of a model. It involves dividing a dataset into two or more parts, typically a training set and a test set, to train and validate a model.\n",
    "\n",
    "The training set is used to train the model, while the test set is used to evaluate its performance. The goal of splitting the dataset is to simulate how well the model can generalize to new, unseen data."
   ]
  },
  {
   "cell_type": "code",
   "execution_count": 26,
   "id": "ba0587de",
   "metadata": {},
   "outputs": [
    {
     "data": {
      "text/html": [
       "<div>\n",
       "<style scoped>\n",
       "    .dataframe tbody tr th:only-of-type {\n",
       "        vertical-align: middle;\n",
       "    }\n",
       "\n",
       "    .dataframe tbody tr th {\n",
       "        vertical-align: top;\n",
       "    }\n",
       "\n",
       "    .dataframe thead th {\n",
       "        text-align: right;\n",
       "    }\n",
       "</style>\n",
       "<table border=\"1\" class=\"dataframe\">\n",
       "  <thead>\n",
       "    <tr style=\"text-align: right;\">\n",
       "      <th></th>\n",
       "      <th>FORWARDER</th>\n",
       "      <th>SUPPLIER NAME</th>\n",
       "      <th>PORT OF LOADING</th>\n",
       "      <th>SBU</th>\n",
       "      <th>DOCUMENT STATUS</th>\n",
       "      <th>weekNumber</th>\n",
       "      <th>month_of_date</th>\n",
       "      <th>day_of_date</th>\n",
       "      <th>Ageing</th>\n",
       "      <th>Ageing_category</th>\n",
       "    </tr>\n",
       "  </thead>\n",
       "  <tbody>\n",
       "    <tr>\n",
       "      <th>3</th>\n",
       "      <td>3</td>\n",
       "      <td>50</td>\n",
       "      <td>5</td>\n",
       "      <td>2</td>\n",
       "      <td>2</td>\n",
       "      <td>9</td>\n",
       "      <td>3</td>\n",
       "      <td>5</td>\n",
       "      <td>37.0</td>\n",
       "      <td>(21.0, 43.0]</td>\n",
       "    </tr>\n",
       "    <tr>\n",
       "      <th>9</th>\n",
       "      <td>0</td>\n",
       "      <td>14</td>\n",
       "      <td>8</td>\n",
       "      <td>10</td>\n",
       "      <td>2</td>\n",
       "      <td>12</td>\n",
       "      <td>3</td>\n",
       "      <td>6</td>\n",
       "      <td>9.0</td>\n",
       "      <td>(8.0, 14.0]</td>\n",
       "    </tr>\n",
       "    <tr>\n",
       "      <th>10</th>\n",
       "      <td>0</td>\n",
       "      <td>101</td>\n",
       "      <td>25</td>\n",
       "      <td>2</td>\n",
       "      <td>1</td>\n",
       "      <td>9</td>\n",
       "      <td>3</td>\n",
       "      <td>4</td>\n",
       "      <td>22.0</td>\n",
       "      <td>(21.0, 43.0]</td>\n",
       "    </tr>\n",
       "    <tr>\n",
       "      <th>14</th>\n",
       "      <td>9</td>\n",
       "      <td>94</td>\n",
       "      <td>9</td>\n",
       "      <td>7</td>\n",
       "      <td>2</td>\n",
       "      <td>10</td>\n",
       "      <td>3</td>\n",
       "      <td>4</td>\n",
       "      <td>14.0</td>\n",
       "      <td>(8.0, 14.0]</td>\n",
       "    </tr>\n",
       "    <tr>\n",
       "      <th>15</th>\n",
       "      <td>9</td>\n",
       "      <td>134</td>\n",
       "      <td>9</td>\n",
       "      <td>7</td>\n",
       "      <td>2</td>\n",
       "      <td>11</td>\n",
       "      <td>3</td>\n",
       "      <td>4</td>\n",
       "      <td>15.0</td>\n",
       "      <td>(14.0, 17.0]</td>\n",
       "    </tr>\n",
       "  </tbody>\n",
       "</table>\n",
       "</div>"
      ],
      "text/plain": [
       "    FORWARDER  SUPPLIER NAME  PORT OF LOADING  SBU  DOCUMENT STATUS  \\\n",
       "3           3             50                5    2                2   \n",
       "9           0             14                8   10                2   \n",
       "10          0            101               25    2                1   \n",
       "14          9             94                9    7                2   \n",
       "15          9            134                9    7                2   \n",
       "\n",
       "    weekNumber  month_of_date  day_of_date  Ageing Ageing_category  \n",
       "3            9              3            5    37.0    (21.0, 43.0]  \n",
       "9           12              3            6     9.0     (8.0, 14.0]  \n",
       "10           9              3            4    22.0    (21.0, 43.0]  \n",
       "14          10              3            4    14.0     (8.0, 14.0]  \n",
       "15          11              3            4    15.0    (14.0, 17.0]  "
      ]
     },
     "execution_count": 26,
     "metadata": {},
     "output_type": "execute_result"
    }
   ],
   "source": [
    "df_encode.head()"
   ]
  },
  {
   "cell_type": "code",
   "execution_count": 27,
   "id": "32caeee1",
   "metadata": {},
   "outputs": [],
   "source": [
    "df_encode = df_encode.drop('Ageing_category', axis=1)"
   ]
  },
  {
   "cell_type": "code",
   "execution_count": 28,
   "id": "57891618",
   "metadata": {},
   "outputs": [],
   "source": [
    "# separate the features and the target variable\n",
    "X = df_encode.iloc[:, :-1]   # categorical variables\n",
    "y = df_encode.iloc[:, -1]    # continuous target variable\n",
    "\n",
    "# split the dataset into training and testing sets\n",
    "X_train, X_test, y_train, y_test = train_test_split(X, y, test_size=0.2, random_state=42)"
   ]
  },
  {
   "cell_type": "markdown",
   "id": "fc959c11",
   "metadata": {},
   "source": [
    "## Model selection"
   ]
  },
  {
   "cell_type": "markdown",
   "id": "c853cbb7",
   "metadata": {},
   "source": [
    "Choose a suitable machine learning algorithm for dataset. Since this dataset have a categorical target variable, we can use classification algorithms such as logistic regression, decision trees, or random forests."
   ]
  },
  {
   "cell_type": "markdown",
   "id": "b74d42aa",
   "metadata": {},
   "source": [
    "### Logistic Regression"
   ]
  },
  {
   "cell_type": "code",
   "execution_count": 29,
   "id": "fafbccb8",
   "metadata": {},
   "outputs": [
    {
     "name": "stdout",
     "output_type": "stream",
     "text": [
      "Accuracy: 0.13962264150943396\n"
     ]
    }
   ],
   "source": [
    "# create a logistic regression model\n",
    "Logistic_model = LogisticRegression()\n",
    "\n",
    "# train the model on the training set\n",
    "Logistic_model.fit(X_train, y_train)\n",
    "\n",
    "# evaluate the model on the testing set\n",
    "score = Logistic_model.score(X_test, y_test)\n",
    "print(\"Accuracy:\", score)"
   ]
  },
  {
   "cell_type": "markdown",
   "id": "42acaa70",
   "metadata": {},
   "source": [
    "### Decision Tree "
   ]
  },
  {
   "cell_type": "code",
   "execution_count": 30,
   "id": "2a94a341",
   "metadata": {
    "scrolled": true
   },
   "outputs": [
    {
     "name": "stdout",
     "output_type": "stream",
     "text": [
      "Accuracy: 0.3886792452830189\n"
     ]
    }
   ],
   "source": [
    "# create a decision tree model\n",
    "Decision_model = DecisionTreeClassifier()\n",
    "\n",
    "# train the model on the training set\n",
    "Decision_model.fit(X_train, y_train)\n",
    "\n",
    "# evaluate the model on the testing set\n",
    "score = Decision_model.score(X_test, y_test)\n",
    "print(\"Accuracy:\", score)"
   ]
  },
  {
   "cell_type": "markdown",
   "id": "f3cd2230",
   "metadata": {},
   "source": [
    "### Random Forests"
   ]
  },
  {
   "cell_type": "code",
   "execution_count": 31,
   "id": "ac3e3b3f",
   "metadata": {},
   "outputs": [
    {
     "name": "stdout",
     "output_type": "stream",
     "text": [
      "Accuracy: 0.3584905660377358\n"
     ]
    }
   ],
   "source": [
    "# create a random forest model with 100 trees\n",
    "Random_model = RandomForestClassifier(n_estimators=100)\n",
    "\n",
    "# train the model on the training set\n",
    "Random_model.fit(X_train, y_train)\n",
    "\n",
    "# evaluate the model on the testing set\n",
    "score = Random_model.score(X_test, y_test)\n",
    "print(\"Accuracy:\", score)"
   ]
  },
  {
   "cell_type": "markdown",
   "id": "3f4cbb6d",
   "metadata": {},
   "source": [
    "### Gradient Boosting"
   ]
  },
  {
   "cell_type": "code",
   "execution_count": 32,
   "id": "2dd3691e",
   "metadata": {},
   "outputs": [
    {
     "name": "stdout",
     "output_type": "stream",
     "text": [
      "Accuracy: 0.3849056603773585\n"
     ]
    }
   ],
   "source": [
    "# create a gradient boosting model with 100 trees\n",
    "Gradient_model = GradientBoostingClassifier(n_estimators=100)\n",
    "\n",
    "# train the model on the training set\n",
    "Gradient_model.fit(X_train, y_train)\n",
    "\n",
    "# evaluate the model on the testing set\n",
    "score = Gradient_model.score(X_test, y_test)\n",
    "print(\"Accuracy:\", score)"
   ]
  },
  {
   "cell_type": "code",
   "execution_count": 33,
   "id": "90cf82c5",
   "metadata": {
    "scrolled": false
   },
   "outputs": [
    {
     "data": {
      "image/png": "[encoded data removed]",
      "text/plain": [
       "<Figure size 640x480 with 2 Axes>"
      ]
     },
     "metadata": {},
     "output_type": "display_data"
    }
   ],
   "source": [
    "# make predictions on the testing set\n",
    "y_pred = Gradient_model.predict(X_test)\n",
    "\n",
    "# compute the classification report and confusion matrix\n",
    "report = classification_report(y_test, y_pred)\n",
    "cm = confusion_matrix(y_test, y_pred)\n",
    "\n",
    "# plot the confusion matrix as a heatmap\n",
    "sns.heatmap(cm, annot=True, cmap=\"Blues\", fmt=\"g\")\n",
    "plt.xlabel(\"Predicted label\")\n",
    "plt.ylabel(\"True label\")\n",
    "plt.show()"
   ]
  },
  {
   "cell_type": "markdown",
   "id": "1e0fb57a",
   "metadata": {},
   "source": [
    "## Hyperparameter Selection"
   ]
  },
  {
   "cell_type": "markdown",
   "id": "f48d81da",
   "metadata": {},
   "source": [
    "To Optimize model's hyperparameters to improve its performance this is important step in machine learning to optimize the performance of a model. Perform hyperparameter tuning for above performed models."
   ]
  },
  {
   "cell_type": "markdown",
   "id": "3dee63ff",
   "metadata": {},
   "source": [
    "### Logistic Regression"
   ]
  },
  {
   "cell_type": "markdown",
   "id": "4772a81f",
   "metadata": {},
   "source": [
    "To perform hyperparameter tuning for logistic regression, here use a grid search to test different combinations of hyperparameters and select the ones that give the best performance."
   ]
  },
  {
   "cell_type": "code",
   "execution_count": 34,
   "id": "ea16c243",
   "metadata": {},
   "outputs": [
    {
     "name": "stdout",
     "output_type": "stream",
     "text": [
      "{'C': 0.01}\n"
     ]
    }
   ],
   "source": [
    "# define the hyperparameter grid\n",
    "param_grid = {'C': [0.001, 0.01, 0.1, 1, 10, 100]}\n",
    "\n",
    "# perform a grid search to find the best hyperparameters\n",
    "grid = GridSearchCV(Logistic_model, param_grid, cv=5)\n",
    "grid.fit(X_train, y_train)\n",
    "\n",
    "# print the best hyperparameters\n",
    "print(grid.best_params_)"
   ]
  },
  {
   "cell_type": "markdown",
   "id": "3e7178c4",
   "metadata": {},
   "source": [
    "### Decision Trees"
   ]
  },
  {
   "cell_type": "markdown",
   "id": "a196582f",
   "metadata": {},
   "source": [
    "To perform hyperparameter tuning for decision trees, here use a grid search to test different combinations of hyperparameters and select the ones that give the best performance."
   ]
  },
  {
   "cell_type": "code",
   "execution_count": 35,
   "id": "0d2d8d1d",
   "metadata": {},
   "outputs": [
    {
     "name": "stdout",
     "output_type": "stream",
     "text": [
      "{'max_depth': 10, 'min_samples_leaf': 3, 'min_samples_split': 6}\n"
     ]
    }
   ],
   "source": [
    "# define the hyperparameter grid\n",
    "param_grid = {'max_depth': [2, 4, 6, 8, 10],\n",
    "              'min_samples_split': [2, 4, 6, 8, 10],\n",
    "              'min_samples_leaf': [1, 2, 3, 4, 5]}\n",
    "\n",
    "# perform a grid search to find the best hyperparameters\n",
    "grid = GridSearchCV(Decision_model, param_grid, cv=5)\n",
    "grid.fit(X_train, y_train)\n",
    "\n",
    "# print the best hyperparameters\n",
    "print(grid.best_params_)"
   ]
  },
  {
   "cell_type": "markdown",
   "id": "052d67a7",
   "metadata": {},
   "source": [
    "### Random Forests"
   ]
  },
  {
   "cell_type": "markdown",
   "id": "152c241d",
   "metadata": {},
   "source": [
    "To perform hyperparameter tuning for random forests, here use a grid search to test different combinations of hyperparameters and select the ones that give the best performance"
   ]
  },
  {
   "cell_type": "code",
   "execution_count": 36,
   "id": "f8a9c978",
   "metadata": {},
   "outputs": [
    {
     "name": "stdout",
     "output_type": "stream",
     "text": [
      "{'max_depth': 10, 'min_samples_leaf': 1, 'min_samples_split': 4, 'n_estimators': 200}\n"
     ]
    }
   ],
   "source": [
    "# define the hyperparameter grid\n",
    "param_grid = {'n_estimators': [100, 200, 300],\n",
    "              'max_depth': [2, 4, 6, 8, 10],\n",
    "              'min_samples_split': [2, 4, 6, 8, 10],\n",
    "              'min_samples_leaf': [1, 2, 3, 4, 5]}\n",
    "\n",
    "# perform a grid search to find the best hyperparameters\n",
    "grid = GridSearchCV(Random_model, param_grid, cv=5)\n",
    "grid.fit(X_train, y_train)\n",
    "\n",
    "# print the best hyperparameters\n",
    "print(grid.best_params_)"
   ]
  },
  {
   "cell_type": "markdown",
   "id": "0188b316",
   "metadata": {},
   "source": [
    "## Optimize Models"
   ]
  },
  {
   "cell_type": "markdown",
   "id": "4c361fda",
   "metadata": {},
   "source": [
    "### Logistic Regression"
   ]
  },
  {
   "cell_type": "markdown",
   "id": "7baafcce",
   "metadata": {},
   "source": [
    "To optimize a logistic regression model using the best hyperparameters found by a grid search, here simply create a new logistic regression model with those hyperparameters and fit it to the training data."
   ]
  },
  {
   "cell_type": "code",
   "execution_count": 59,
   "id": "bfe6765f",
   "metadata": {},
   "outputs": [
    {
     "name": "stdout",
     "output_type": "stream",
     "text": [
      "Accuracy: 0.13 (+/- 0.15)\n",
      "Precision:  0.3660377358490566\n"
     ]
    }
   ],
   "source": [
    "# create a logistic regression model with the best hyperparameters\n",
    "Opt_Logic_model = LogisticRegression(C=0.01)\n",
    "\n",
    "# fit the model to the training data\n",
    "Opt_Logic_model.fit(X_train, y_train)\n",
    "\n",
    "# evaluate the model on the testing set\n",
    "lr_predict = Opt_Random_model.predict(X_test)\n",
    "\n",
    "# perform 10-fold cross-validation\n",
    "scores = cross_val_score(Opt_Logic_model, X, y, cv=100)\n",
    "lr_precision = precision_score(y_test, lr_predict, average='micro')\n",
    "\n",
    "# print the mean and standard deviation of the cross-validation scores\n",
    "print(\"Accuracy: %0.2f (+/- %0.2f)\" % (scores.mean(), scores.std() * 2))\n",
    "print(\"Precision: \" ,lr_precision.mean())"
   ]
  },
  {
   "cell_type": "markdown",
   "id": "30d61e09",
   "metadata": {},
   "source": [
    "### Decision Trees"
   ]
  },
  {
   "cell_type": "markdown",
   "id": "176811cd",
   "metadata": {},
   "source": [
    "To optimize a decision tree model using the best hyperparameters found by a grid search, here create a new decision tree model with those hyperparameters and fit it to the training data"
   ]
  },
  {
   "cell_type": "code",
   "execution_count": 58,
   "id": "c14c4078",
   "metadata": {
    "scrolled": true
   },
   "outputs": [
    {
     "name": "stdout",
     "output_type": "stream",
     "text": [
      "Accuracy: 0.34 (+/- 0.25)\n",
      "MAE:  3.120754716981132\n",
      "MSE:  5.890510436927106\n",
      "Precision:  0.3660377358490566\n"
     ]
    }
   ],
   "source": [
    "# create a decision tree model with the best hyperparameters\n",
    "Opt_Decision_model = DecisionTreeClassifier(max_depth=10, min_samples_leaf=3, min_samples_split=6)\n",
    "\n",
    "# fit the model to the training data\n",
    "Opt_Decision_model.fit(X_train, y_train)\n",
    "\n",
    "# evaluate the model on the testing set\n",
    "dt_predict = Opt_Random_model.predict(X_test)\n",
    "\n",
    "# perform 10-fold cross-validation\n",
    "scores = cross_val_score(Opt_Decision_model, X, y, cv=100)\n",
    "dt_mae = mean_absolute_error(y_test, dt_predict)\n",
    "dt_rmse = mean_squared_error(y_test, dt_predict, squared=False)\n",
    "dt_precision = precision_score(y_test, dt_predict, average='micro')\n",
    "\n",
    "# print the mean and standard deviation of the cross-validation scores\n",
    "print(\"Accuracy: %0.2f (+/- %0.2f)\" % (scores.mean(), scores.std() * 2))\n",
    "print(\"MAE: \" ,dt_mae.mean())\n",
    "print(\"MSE: \" ,dt_rmse.mean())\n",
    "print(\"Precision: \" ,dt_precision.mean())"
   ]
  },
  {
   "cell_type": "markdown",
   "id": "698fe2ff",
   "metadata": {},
   "source": [
    "### Random Forests"
   ]
  },
  {
   "cell_type": "markdown",
   "id": "fd172877",
   "metadata": {},
   "source": [
    "To optimize a random forest model using the best hyperparameters found by a grid search, here create a new random forest model with those hyperparameters and fit it to the training data."
   ]
  },
  {
   "cell_type": "code",
   "execution_count": 57,
   "id": "6fd5b703",
   "metadata": {},
   "outputs": [
    {
     "name": "stdout",
     "output_type": "stream",
     "text": [
      "Accuracy: 0.40 (+/- 0.25)\n",
      "MAE:  3.120754716981132\n",
      "MSE:  5.890510436927106\n",
      "Precision:  0.3584905660377358\n"
     ]
    }
   ],
   "source": [
    "# create a random forest model with the best hyperparameters\n",
    "Opt_Random_model = RandomForestClassifier(n_estimators=200, max_depth=10, min_samples_leaf=1, min_samples_split=4)\n",
    "\n",
    "# fit the model to the training data\n",
    "Opt_Random_model.fit(X_train, y_train)\n",
    "\n",
    "# evaluate the model on the testing set\n",
    "rf_predict = Opt_Random_model.predict(X_test)\n",
    "\n",
    "# perform 10-fold cross-validation\n",
    "scores = cross_val_score(Opt_Random_model, X, y, cv=100)\n",
    "rf_mae = mean_absolute_error(y_test, rf_predict)\n",
    "rf_rmse = mean_squared_error(y_test, rf_predict, squared=False)\n",
    "rf_precision = precision_score(y_test, dt_predict, average='micro')\n",
    "\n",
    "# print the mean and standard deviation of the cross-validation scores\n",
    "print(\"Accuracy: %0.2f (+/- %0.2f)\" % (scores.mean(), scores.std() * 2))\n",
    "print(\"MAE: \" ,rf_mae.mean())\n",
    "print(\"MSE: \" ,rf_rmse.mean())\n",
    "print(\"Precision: \" ,rf_precision.mean())"
   ]
  },
  {
   "cell_type": "markdown",
   "id": "aa29c252",
   "metadata": {},
   "source": [
    "## Model Training and Evaluation"
   ]
  },
  {
   "cell_type": "markdown",
   "id": "cb1fb6be",
   "metadata": {},
   "source": [
    "Here we have train above models with training datasets by spliting for 100 times and calculate model accuracies by using 'accuracy_score' in scikit-learn. It compares the predicted labels with the true labels and returns the fraction of correct predictions.\n",
    "\n",
    "The formula for accuracy score is:\n",
    "\n",
    "#### Accuracy = (number of correct predictions) / (total number of predictions)\n",
    "\n",
    "    "
   ]
  },
  {
   "cell_type": "code",
   "execution_count": 60,
   "id": "81f74a32",
   "metadata": {},
   "outputs": [
    {
     "data": {
      "image/png": "[encoded data removed]",
      "text/plain": [
       "<Figure size 640x480 with 1 Axes>"
      ]
     },
     "metadata": {},
     "output_type": "display_data"
    },
    {
     "data": {
      "text/plain": [
       "<Figure size 640x480 with 0 Axes>"
      ]
     },
     "metadata": {},
     "output_type": "display_data"
    }
   ],
   "source": [
    "# create arrays to store the scores for each model\n",
    "lr_scores = np.zeros((100, 1))\n",
    "dt_scores = np.zeros((100, 1))\n",
    "rf_scores = np.zeros((100, 1))\n",
    "\n",
    "# repeat the process 100 times\n",
    "for i in range(100):\n",
    "    # split the data into training and testing sets\n",
    "    X_train, X_test, y_train, y_test = train_test_split(X, y, test_size=0.2, random_state=i)\n",
    "    \n",
    "    # train the logistic regression model\n",
    "    Opt_Logic_model.fit(X_train, y_train)\n",
    "    lr_pred = Opt_Logic_model.predict(X_test)\n",
    "    lr_scores[i] = accuracy_score(y_test, lr_pred)\n",
    "    \n",
    "    # train the decision tree model\n",
    "    Opt_Decision_model.fit(X_train, y_train)\n",
    "    dt_pred = Opt_Decision_model.predict(X_test)\n",
    "    dt_scores[i] = accuracy_score(y_test, dt_pred)\n",
    "    \n",
    "    # train the random forest model\n",
    "    Opt_Random_model.fit(X_train, y_train)\n",
    "    rf_pred = Opt_Random_model.predict(X_test)\n",
    "    rf_scores[i] = accuracy_score(y_test, rf_pred)\n",
    "\n",
    "# create a list of model names\n",
    "models = ['Logistic Regression', 'Decision Tree', 'Random Forest']\n",
    "\n",
    "# create a list of the scores for each model\n",
    "scores = [lr_scores, dt_scores, rf_scores]\n",
    "\n",
    "# plot a line chart of the mean score for each model over 100 repeats\n",
    "for i, score in enumerate(scores):\n",
    "    plt.plot(np.arange(1, 101), np.mean(score, axis=1), label=models[i])\n",
    "\n",
    "# add a legend to the chart\n",
    "plt.legend()\n",
    "\n",
    "# add axis labels\n",
    "plt.xlabel('Repeat')\n",
    "plt.ylabel('Accuracy')\n",
    "\n",
    "# show the chart\n",
    "plt.show()\n",
    "plt.savefig('Accuracy.png')"
   ]
  },
  {
   "cell_type": "code",
   "execution_count": 61,
   "id": "7b71762f",
   "metadata": {},
   "outputs": [
    {
     "data": {
      "text/plain": [
       "<Figure size 640x480 with 0 Axes>"
      ]
     },
     "metadata": {},
     "output_type": "display_data"
    }
   ],
   "source": [
    "plt.savefig('Accuracy.png')"
   ]
  }
 ],
 "metadata": {
  "kernelspec": {
   "display_name": "Python 3 (ipykernel)",
   "language": "python",
   "name": "python3"
  },
  "language_info": {
   "codemirror_mode": {
    "name": "ipython",
    "version": 3
   },
   "file_extension": ".py",
   "mimetype": "text/x-python",
   "name": "python",
   "nbconvert_exporter": "python",
   "pygments_lexer": "ipython3",
   "version": "3.9.13"
  }
 },
 "nbformat": 4,
 "nbformat_minor": 5
}
